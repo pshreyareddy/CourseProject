{
  "nbformat": 4,
  "nbformat_minor": 0,
  "metadata": {
    "accelerator": "GPU",
    "colab": {
      "name": "ProjectCodeForBERT.ipynb",
      "provenance": [],
      "collapsed_sections": [],
      "mount_file_id": "1kDNPpAMV2RBOsX00bXTrJ35wxS6LIVoL",
      "authorship_tag": "ABX9TyMN4EmDJyRGapRyndfOvjUR",
      "include_colab_link": true
    },
    "kernelspec": {
      "display_name": "Python 3",
      "name": "python3"
    }
  },
  "cells": [
    {
      "cell_type": "markdown",
      "metadata": {
        "id": "view-in-github",
        "colab_type": "text"
      },
      "source": [
        "<a href=\"https://colab.research.google.com/github/pshreyareddy/CourseProject/blob/main/ProjectCodeForBERT.ipynb\" target=\"_parent\"><img src=\"https://colab.research.google.com/assets/colab-badge.svg\" alt=\"Open In Colab\"/></a>"
      ]
    },
    {
      "cell_type": "markdown",
      "metadata": {
        "id": "0Uv6HfU0Boze"
      },
      "source": [
        "Sarcasm Classification In Tweets\n",
        "\n"
      ]
    },
    {
      "cell_type": "code",
      "metadata": {
        "id": "ztfX6a25IihD",
        "colab": {
          "base_uri": "https://localhost:8080/"
        },
        "outputId": "290931ce-ebfe-4ed0-cd4f-2f076e47679d"
      },
      "source": [
        "# Install TensorFlow packages\n",
        "!pip install tensorflow==2.1.0\n",
        "!pip install tensorflow-hub\n",
        "!pip install tensorflow-addons\n",
        "!pip install sentencepiece"
      ],
      "execution_count": 1,
      "outputs": [
        {
          "output_type": "stream",
          "text": [
            "Collecting tensorflow==2.1.0\n",
            "\u001b[?25l  Downloading https://files.pythonhosted.org/packages/85/d4/c0cd1057b331bc38b65478302114194bd8e1b9c2bbc06e300935c0e93d90/tensorflow-2.1.0-cp36-cp36m-manylinux2010_x86_64.whl (421.8MB)\n",
            "\u001b[K     |████████████████████████████████| 421.8MB 29kB/s \n",
            "\u001b[?25hRequirement already satisfied: absl-py>=0.7.0 in /usr/local/lib/python3.6/dist-packages (from tensorflow==2.1.0) (0.10.0)\n",
            "Requirement already satisfied: protobuf>=3.8.0 in /usr/local/lib/python3.6/dist-packages (from tensorflow==2.1.0) (3.12.4)\n",
            "Collecting gast==0.2.2\n",
            "  Downloading https://files.pythonhosted.org/packages/4e/35/11749bf99b2d4e3cceb4d55ca22590b0d7c2c62b9de38ac4a4a7f4687421/gast-0.2.2.tar.gz\n",
            "Requirement already satisfied: scipy==1.4.1; python_version >= \"3\" in /usr/local/lib/python3.6/dist-packages (from tensorflow==2.1.0) (1.4.1)\n",
            "Requirement already satisfied: termcolor>=1.1.0 in /usr/local/lib/python3.6/dist-packages (from tensorflow==2.1.0) (1.1.0)\n",
            "Requirement already satisfied: wheel>=0.26; python_version >= \"3\" in /usr/local/lib/python3.6/dist-packages (from tensorflow==2.1.0) (0.35.1)\n",
            "Collecting tensorflow-estimator<2.2.0,>=2.1.0rc0\n",
            "\u001b[?25l  Downloading https://files.pythonhosted.org/packages/18/90/b77c328a1304437ab1310b463e533fa7689f4bfc41549593056d812fab8e/tensorflow_estimator-2.1.0-py2.py3-none-any.whl (448kB)\n",
            "\u001b[K     |████████████████████████████████| 450kB 44.9MB/s \n",
            "\u001b[?25hRequirement already satisfied: grpcio>=1.8.6 in /usr/local/lib/python3.6/dist-packages (from tensorflow==2.1.0) (1.33.2)\n",
            "Requirement already satisfied: six>=1.12.0 in /usr/local/lib/python3.6/dist-packages (from tensorflow==2.1.0) (1.15.0)\n",
            "Requirement already satisfied: astor>=0.6.0 in /usr/local/lib/python3.6/dist-packages (from tensorflow==2.1.0) (0.8.1)\n",
            "Collecting tensorboard<2.2.0,>=2.1.0\n",
            "\u001b[?25l  Downloading https://files.pythonhosted.org/packages/d9/41/bbf49b61370e4f4d245d4c6051dfb6db80cec672605c91b1652ac8cc3d38/tensorboard-2.1.1-py3-none-any.whl (3.8MB)\n",
            "\u001b[K     |████████████████████████████████| 3.9MB 50.6MB/s \n",
            "\u001b[?25hRequirement already satisfied: numpy<2.0,>=1.16.0 in /usr/local/lib/python3.6/dist-packages (from tensorflow==2.1.0) (1.18.5)\n",
            "Requirement already satisfied: keras-preprocessing>=1.1.0 in /usr/local/lib/python3.6/dist-packages (from tensorflow==2.1.0) (1.1.2)\n",
            "Requirement already satisfied: google-pasta>=0.1.6 in /usr/local/lib/python3.6/dist-packages (from tensorflow==2.1.0) (0.2.0)\n",
            "Collecting keras-applications>=1.0.8\n",
            "\u001b[?25l  Downloading https://files.pythonhosted.org/packages/71/e3/19762fdfc62877ae9102edf6342d71b28fbfd9dea3d2f96a882ce099b03f/Keras_Applications-1.0.8-py3-none-any.whl (50kB)\n",
            "\u001b[K     |████████████████████████████████| 51kB 7.8MB/s \n",
            "\u001b[?25hRequirement already satisfied: opt-einsum>=2.3.2 in /usr/local/lib/python3.6/dist-packages (from tensorflow==2.1.0) (3.3.0)\n",
            "Requirement already satisfied: wrapt>=1.11.1 in /usr/local/lib/python3.6/dist-packages (from tensorflow==2.1.0) (1.12.1)\n",
            "Requirement already satisfied: setuptools in /usr/local/lib/python3.6/dist-packages (from protobuf>=3.8.0->tensorflow==2.1.0) (50.3.2)\n",
            "Requirement already satisfied: google-auth-oauthlib<0.5,>=0.4.1 in /usr/local/lib/python3.6/dist-packages (from tensorboard<2.2.0,>=2.1.0->tensorflow==2.1.0) (0.4.2)\n",
            "Requirement already satisfied: werkzeug>=0.11.15 in /usr/local/lib/python3.6/dist-packages (from tensorboard<2.2.0,>=2.1.0->tensorflow==2.1.0) (1.0.1)\n",
            "Requirement already satisfied: markdown>=2.6.8 in /usr/local/lib/python3.6/dist-packages (from tensorboard<2.2.0,>=2.1.0->tensorflow==2.1.0) (3.3.3)\n",
            "Requirement already satisfied: google-auth<2,>=1.6.3 in /usr/local/lib/python3.6/dist-packages (from tensorboard<2.2.0,>=2.1.0->tensorflow==2.1.0) (1.17.2)\n",
            "Requirement already satisfied: requests<3,>=2.21.0 in /usr/local/lib/python3.6/dist-packages (from tensorboard<2.2.0,>=2.1.0->tensorflow==2.1.0) (2.23.0)\n",
            "Requirement already satisfied: h5py in /usr/local/lib/python3.6/dist-packages (from keras-applications>=1.0.8->tensorflow==2.1.0) (2.10.0)\n",
            "Requirement already satisfied: requests-oauthlib>=0.7.0 in /usr/local/lib/python3.6/dist-packages (from google-auth-oauthlib<0.5,>=0.4.1->tensorboard<2.2.0,>=2.1.0->tensorflow==2.1.0) (1.3.0)\n",
            "Requirement already satisfied: importlib-metadata; python_version < \"3.8\" in /usr/local/lib/python3.6/dist-packages (from markdown>=2.6.8->tensorboard<2.2.0,>=2.1.0->tensorflow==2.1.0) (2.0.0)\n",
            "Requirement already satisfied: cachetools<5.0,>=2.0.0 in /usr/local/lib/python3.6/dist-packages (from google-auth<2,>=1.6.3->tensorboard<2.2.0,>=2.1.0->tensorflow==2.1.0) (4.1.1)\n",
            "Requirement already satisfied: pyasn1-modules>=0.2.1 in /usr/local/lib/python3.6/dist-packages (from google-auth<2,>=1.6.3->tensorboard<2.2.0,>=2.1.0->tensorflow==2.1.0) (0.2.8)\n",
            "Requirement already satisfied: rsa<5,>=3.1.4; python_version >= \"3\" in /usr/local/lib/python3.6/dist-packages (from google-auth<2,>=1.6.3->tensorboard<2.2.0,>=2.1.0->tensorflow==2.1.0) (4.6)\n",
            "Requirement already satisfied: idna<3,>=2.5 in /usr/local/lib/python3.6/dist-packages (from requests<3,>=2.21.0->tensorboard<2.2.0,>=2.1.0->tensorflow==2.1.0) (2.10)\n",
            "Requirement already satisfied: certifi>=2017.4.17 in /usr/local/lib/python3.6/dist-packages (from requests<3,>=2.21.0->tensorboard<2.2.0,>=2.1.0->tensorflow==2.1.0) (2020.11.8)\n",
            "Requirement already satisfied: urllib3!=1.25.0,!=1.25.1,<1.26,>=1.21.1 in /usr/local/lib/python3.6/dist-packages (from requests<3,>=2.21.0->tensorboard<2.2.0,>=2.1.0->tensorflow==2.1.0) (1.24.3)\n",
            "Requirement already satisfied: chardet<4,>=3.0.2 in /usr/local/lib/python3.6/dist-packages (from requests<3,>=2.21.0->tensorboard<2.2.0,>=2.1.0->tensorflow==2.1.0) (3.0.4)\n",
            "Requirement already satisfied: oauthlib>=3.0.0 in /usr/local/lib/python3.6/dist-packages (from requests-oauthlib>=0.7.0->google-auth-oauthlib<0.5,>=0.4.1->tensorboard<2.2.0,>=2.1.0->tensorflow==2.1.0) (3.1.0)\n",
            "Requirement already satisfied: zipp>=0.5 in /usr/local/lib/python3.6/dist-packages (from importlib-metadata; python_version < \"3.8\"->markdown>=2.6.8->tensorboard<2.2.0,>=2.1.0->tensorflow==2.1.0) (3.4.0)\n",
            "Requirement already satisfied: pyasn1<0.5.0,>=0.4.6 in /usr/local/lib/python3.6/dist-packages (from pyasn1-modules>=0.2.1->google-auth<2,>=1.6.3->tensorboard<2.2.0,>=2.1.0->tensorflow==2.1.0) (0.4.8)\n",
            "Building wheels for collected packages: gast\n",
            "  Building wheel for gast (setup.py) ... \u001b[?25l\u001b[?25hdone\n",
            "  Created wheel for gast: filename=gast-0.2.2-cp36-none-any.whl size=7542 sha256=87b731db30a50d1d1a5186c219e7347a0ba0450d3b5a003a066df6b15bd3a936\n",
            "  Stored in directory: /root/.cache/pip/wheels/5c/2e/7e/a1d4d4fcebe6c381f378ce7743a3ced3699feb89bcfbdadadd\n",
            "Successfully built gast\n",
            "\u001b[31mERROR: tensorflow-probability 0.11.0 has requirement gast>=0.3.2, but you'll have gast 0.2.2 which is incompatible.\u001b[0m\n",
            "Installing collected packages: gast, tensorflow-estimator, tensorboard, keras-applications, tensorflow\n",
            "  Found existing installation: gast 0.3.3\n",
            "    Uninstalling gast-0.3.3:\n",
            "      Successfully uninstalled gast-0.3.3\n",
            "  Found existing installation: tensorflow-estimator 2.3.0\n",
            "    Uninstalling tensorflow-estimator-2.3.0:\n",
            "      Successfully uninstalled tensorflow-estimator-2.3.0\n",
            "  Found existing installation: tensorboard 2.3.0\n",
            "    Uninstalling tensorboard-2.3.0:\n",
            "      Successfully uninstalled tensorboard-2.3.0\n",
            "  Found existing installation: tensorflow 2.3.0\n",
            "    Uninstalling tensorflow-2.3.0:\n",
            "      Successfully uninstalled tensorflow-2.3.0\n",
            "Successfully installed gast-0.2.2 keras-applications-1.0.8 tensorboard-2.1.1 tensorflow-2.1.0 tensorflow-estimator-2.1.0\n",
            "Requirement already satisfied: tensorflow-hub in /usr/local/lib/python3.6/dist-packages (0.10.0)\n",
            "Requirement already satisfied: numpy>=1.12.0 in /usr/local/lib/python3.6/dist-packages (from tensorflow-hub) (1.18.5)\n",
            "Requirement already satisfied: protobuf>=3.8.0 in /usr/local/lib/python3.6/dist-packages (from tensorflow-hub) (3.12.4)\n",
            "Requirement already satisfied: six>=1.9 in /usr/local/lib/python3.6/dist-packages (from protobuf>=3.8.0->tensorflow-hub) (1.15.0)\n",
            "Requirement already satisfied: setuptools in /usr/local/lib/python3.6/dist-packages (from protobuf>=3.8.0->tensorflow-hub) (50.3.2)\n",
            "Requirement already satisfied: tensorflow-addons in /usr/local/lib/python3.6/dist-packages (0.8.3)\n",
            "Requirement already satisfied: typeguard in /usr/local/lib/python3.6/dist-packages (from tensorflow-addons) (2.7.1)\n",
            "Collecting sentencepiece\n",
            "\u001b[?25l  Downloading https://files.pythonhosted.org/packages/e5/2d/6d4ca4bef9a67070fa1cac508606328329152b1df10bdf31fb6e4e727894/sentencepiece-0.1.94-cp36-cp36m-manylinux2014_x86_64.whl (1.1MB)\n",
            "\u001b[K     |████████████████████████████████| 1.1MB 7.7MB/s \n",
            "\u001b[?25hInstalling collected packages: sentencepiece\n",
            "Successfully installed sentencepiece-0.1.94\n"
          ],
          "name": "stdout"
        }
      ]
    },
    {
      "cell_type": "markdown",
      "metadata": {
        "id": "v_N2xH-VY89K"
      },
      "source": [
        "Import Required Packages "
      ]
    },
    {
      "cell_type": "code",
      "metadata": {
        "colab": {
          "base_uri": "https://localhost:8080/"
        },
        "id": "10VItUvEvppl",
        "outputId": "ccca4cbb-6349-4e1d-8869-9e5ebed97223"
      },
      "source": [
        "import tensorflow as tf; \n",
        "\n",
        "print(tf.__version__)"
      ],
      "execution_count": 3,
      "outputs": [
        {
          "output_type": "stream",
          "text": [
            "2.1.0\n"
          ],
          "name": "stdout"
        }
      ]
    },
    {
      "cell_type": "code",
      "metadata": {
        "colab": {
          "base_uri": "https://localhost:8080/"
        },
        "id": "HeH4xKYdAFDu",
        "outputId": "e989e902-6757-4ecf-c1c8-5a56bf6210d6"
      },
      "source": [
        "!python --version"
      ],
      "execution_count": 4,
      "outputs": [
        {
          "output_type": "stream",
          "text": [
            "Python 3.6.9\n"
          ],
          "name": "stdout"
        }
      ]
    },
    {
      "cell_type": "code",
      "metadata": {
        "id": "XmUL_2tlKxOM"
      },
      "source": [
        "import pandas as pd\n",
        "import numpy as np\n",
        "import re\n",
        "import string\n",
        "from collections import Counter\n",
        "from sklearn.preprocessing import LabelEncoder\n",
        "from sklearn.model_selection import train_test_split\n",
        "\n",
        "# Import tensorflow packages\n",
        "from tensorflow.keras import backend as K\n",
        "from tensorflow.keras.models import Model\n",
        "from tensorflow.keras.layers import Input,concatenate,Dense,GlobalAveragePooling1D,Dropout\n",
        "from tensorflow.keras.optimizers import Adam\n",
        "import tensorflow as tf\n",
        "import tensorflow_addons as tfa\n"
      ],
      "execution_count": 5,
      "outputs": []
    },
    {
      "cell_type": "markdown",
      "metadata": {
        "id": "ymgw8JqtZBww"
      },
      "source": [
        "Read Train Data Set"
      ]
    },
    {
      "cell_type": "code",
      "metadata": {
        "id": "sfy5ui7YK7p7"
      },
      "source": [
        "\n",
        "train = pd.read_json('https://raw.githubusercontent.com/CS410Fall2020/ClassificationCompetition/main/data/train.jsonl',lines=True)\n"
      ],
      "execution_count": 37,
      "outputs": []
    },
    {
      "cell_type": "markdown",
      "metadata": {
        "id": "Bf1pQ4U_ZHTj"
      },
      "source": [
        "Check train data "
      ]
    },
    {
      "cell_type": "code",
      "metadata": {
        "id": "u3F89UFPLFeT",
        "colab": {
          "base_uri": "https://localhost:8080/",
          "height": 204
        },
        "outputId": "d9e89a60-80b3-4f31-a8e3-f9252e358115"
      },
      "source": [
        "train.head()"
      ],
      "execution_count": 38,
      "outputs": [
        {
          "output_type": "execute_result",
          "data": {
            "text/html": [
              "<div>\n",
              "<style scoped>\n",
              "    .dataframe tbody tr th:only-of-type {\n",
              "        vertical-align: middle;\n",
              "    }\n",
              "\n",
              "    .dataframe tbody tr th {\n",
              "        vertical-align: top;\n",
              "    }\n",
              "\n",
              "    .dataframe thead th {\n",
              "        text-align: right;\n",
              "    }\n",
              "</style>\n",
              "<table border=\"1\" class=\"dataframe\">\n",
              "  <thead>\n",
              "    <tr style=\"text-align: right;\">\n",
              "      <th></th>\n",
              "      <th>label</th>\n",
              "      <th>response</th>\n",
              "      <th>context</th>\n",
              "    </tr>\n",
              "  </thead>\n",
              "  <tbody>\n",
              "    <tr>\n",
              "      <th>0</th>\n",
              "      <td>SARCASM</td>\n",
              "      <td>@USER @USER @USER I don't get this .. obviousl...</td>\n",
              "      <td>[A minor child deserves privacy and should be ...</td>\n",
              "    </tr>\n",
              "    <tr>\n",
              "      <th>1</th>\n",
              "      <td>SARCASM</td>\n",
              "      <td>@USER @USER trying to protest about . Talking ...</td>\n",
              "      <td>[@USER @USER Why is he a loser ? He's just a P...</td>\n",
              "    </tr>\n",
              "    <tr>\n",
              "      <th>2</th>\n",
              "      <td>SARCASM</td>\n",
              "      <td>@USER @USER @USER He makes an insane about of ...</td>\n",
              "      <td>[Donald J . Trump is guilty as charged . The e...</td>\n",
              "    </tr>\n",
              "    <tr>\n",
              "      <th>3</th>\n",
              "      <td>SARCASM</td>\n",
              "      <td>@USER @USER Meanwhile Trump won't even release...</td>\n",
              "      <td>[Jamie Raskin tanked Doug Collins . Collins lo...</td>\n",
              "    </tr>\n",
              "    <tr>\n",
              "      <th>4</th>\n",
              "      <td>SARCASM</td>\n",
              "      <td>@USER @USER Pretty Sure the Anti-Lincoln Crowd...</td>\n",
              "      <td>[Man ... y ’ all gone “ both sides ” the apoca...</td>\n",
              "    </tr>\n",
              "  </tbody>\n",
              "</table>\n",
              "</div>"
            ],
            "text/plain": [
              "     label  ...                                            context\n",
              "0  SARCASM  ...  [A minor child deserves privacy and should be ...\n",
              "1  SARCASM  ...  [@USER @USER Why is he a loser ? He's just a P...\n",
              "2  SARCASM  ...  [Donald J . Trump is guilty as charged . The e...\n",
              "3  SARCASM  ...  [Jamie Raskin tanked Doug Collins . Collins lo...\n",
              "4  SARCASM  ...  [Man ... y ’ all gone “ both sides ” the apoca...\n",
              "\n",
              "[5 rows x 3 columns]"
            ]
          },
          "metadata": {
            "tags": []
          },
          "execution_count": 38
        }
      ]
    },
    {
      "cell_type": "code",
      "metadata": {
        "colab": {
          "base_uri": "https://localhost:8080/"
        },
        "id": "8i7z_zmjBCWH",
        "outputId": "858dd453-2c8b-4f21-e252-b299d55b6aa8"
      },
      "source": [
        "train.dtypes"
      ],
      "execution_count": 39,
      "outputs": [
        {
          "output_type": "execute_result",
          "data": {
            "text/plain": [
              "label       object\n",
              "response    object\n",
              "context     object\n",
              "dtype: object"
            ]
          },
          "metadata": {
            "tags": []
          },
          "execution_count": 39
        }
      ]
    },
    {
      "cell_type": "markdown",
      "metadata": {
        "id": "hD9GO_AiZWCH"
      },
      "source": [
        "Clean the response column in train dataset"
      ]
    },
    {
      "cell_type": "code",
      "metadata": {
        "id": "trL6cio9LMpT"
      },
      "source": [
        "train['response']=train['response'].str.replace('@USER', \"\") \n",
        "train['response']=train['response'].str.replace('<URL>', \"\") \n",
        "train['response']=train['response'].str.replace('\\d+', '')\n",
        "train['response']=train['response'].str.lower()\n",
        "train['response']=train['response'].str.replace('[^\\w\\s]','')"
      ],
      "execution_count": 40,
      "outputs": []
    },
    {
      "cell_type": "markdown",
      "metadata": {
        "id": "gHZNtFazZbgp"
      },
      "source": [
        "Check the train data after changes"
      ]
    },
    {
      "cell_type": "code",
      "metadata": {
        "colab": {
          "base_uri": "https://localhost:8080/",
          "height": 35
        },
        "id": "1W0r7b7pR_c6",
        "outputId": "18395ef5-939a-40dd-d67e-5e29005dac7f"
      },
      "source": [
        "train['response'][0]"
      ],
      "execution_count": 41,
      "outputs": [
        {
          "output_type": "execute_result",
          "data": {
            "application/vnd.google.colaboratory.intrinsic+json": {
              "type": "string"
            },
            "text/plain": [
              "'   i dont get this  obviously you do care or you wouldve moved right along  instead you decided to care and troll her '"
            ]
          },
          "metadata": {
            "tags": []
          },
          "execution_count": 41
        }
      ]
    },
    {
      "cell_type": "code",
      "metadata": {
        "id": "LAr4ENChLQYu",
        "colab": {
          "base_uri": "https://localhost:8080/"
        },
        "outputId": "ccae389f-2f14-4e86-ada1-e32451a8425e"
      },
      "source": [
        "train['response'].head()"
      ],
      "execution_count": 42,
      "outputs": [
        {
          "output_type": "execute_result",
          "data": {
            "text/plain": [
              "0       i dont get this  obviously you do care or y...\n",
              "1      trying to protest about  talking about him a...\n",
              "2       he makes an insane about of money from the ...\n",
              "3      meanwhile trump wont even release his sat sc...\n",
              "4      pretty sure the antilincoln crowd claimed th...\n",
              "Name: response, dtype: object"
            ]
          },
          "metadata": {
            "tags": []
          },
          "execution_count": 42
        }
      ]
    },
    {
      "cell_type": "markdown",
      "metadata": {
        "id": "NgsrQktXZgzs"
      },
      "source": [
        "Convert context(list) into a string and apply the same cleaning logic added on response column"
      ]
    },
    {
      "cell_type": "code",
      "metadata": {
        "id": "RmEd6vJuLTa6"
      },
      "source": [
        "train['context']=train['context'].apply(lambda x: ','.join(map(str, x)))\n",
        "train['context']=train['context'].str.replace('@USER', \"\") \n",
        "train['context']=train['context'].str.replace('<URL', \"\") \n",
        "train['context']=train['context'].str.lower()\n",
        "train['context']=train['context'].str.replace('[^\\w\\s]','')\n",
        "train['context']=train['context'].str.replace('\\d+', '')\n"
      ],
      "execution_count": 43,
      "outputs": []
    },
    {
      "cell_type": "markdown",
      "metadata": {
        "id": "w20XN-wXZ8X2"
      },
      "source": [
        "Check the train data after changes"
      ]
    },
    {
      "cell_type": "code",
      "metadata": {
        "colab": {
          "base_uri": "https://localhost:8080/",
          "height": 69
        },
        "id": "nOf-B5EFR18-",
        "outputId": "ca544156-e17c-419c-992c-a97160c661c4"
      },
      "source": [
        "train['context'][0]"
      ],
      "execution_count": 44,
      "outputs": [
        {
          "output_type": "execute_result",
          "data": {
            "application/vnd.google.colaboratory.intrinsic+json": {
              "type": "string"
            },
            "text/plain": [
              "'a minor child deserves privacy and should be kept out of politics  pamela karlan  you should be ashamed of your very angry and obviously biased public pandering  and using a child to do it  if your child isnt named barron  bebest melania couldnt care less  fact  '"
            ]
          },
          "metadata": {
            "tags": []
          },
          "execution_count": 44
        }
      ]
    },
    {
      "cell_type": "code",
      "metadata": {
        "id": "gn3a2UQTLWPn",
        "colab": {
          "base_uri": "https://localhost:8080/"
        },
        "outputId": "495f68eb-6c5f-48f6-808f-3552001c481a"
      },
      "source": [
        "train['context'].head()"
      ],
      "execution_count": 45,
      "outputs": [
        {
          "output_type": "execute_result",
          "data": {
            "text/plain": [
              "0    a minor child deserves privacy and should be k...\n",
              "1      why is he a loser  hes just a press secretar...\n",
              "2    donald j  trump is guilty as charged  the evid...\n",
              "3    jamie raskin tanked doug collins  collins look...\n",
              "4    man  y  all gone  both sides  the apocalypse o...\n",
              "Name: context, dtype: object"
            ]
          },
          "metadata": {
            "tags": []
          },
          "execution_count": 45
        }
      ]
    },
    {
      "cell_type": "markdown",
      "metadata": {
        "id": "l2gEhUXYaN3g"
      },
      "source": [
        "Check the length of train data set"
      ]
    },
    {
      "cell_type": "code",
      "metadata": {
        "id": "bhGnyAZRLY8a",
        "colab": {
          "base_uri": "https://localhost:8080/"
        },
        "outputId": "a112e462-81f0-400e-f96f-f5eb84c67316"
      },
      "source": [
        "len(train)"
      ],
      "execution_count": 46,
      "outputs": [
        {
          "output_type": "execute_result",
          "data": {
            "text/plain": [
              "5000"
            ]
          },
          "metadata": {
            "tags": []
          },
          "execution_count": 46
        }
      ]
    },
    {
      "cell_type": "markdown",
      "metadata": {
        "id": "bvbob0xuaTD0"
      },
      "source": [
        "Check the class count of target variable 'label' (Balanced dataset with equal composition)"
      ]
    },
    {
      "cell_type": "code",
      "metadata": {
        "id": "jy8ZYwoILctO",
        "colab": {
          "base_uri": "https://localhost:8080/"
        },
        "outputId": "a9e47e64-805f-43ad-d5f1-fd711efa0ace"
      },
      "source": [
        "from collections import Counter\n",
        "Counter(train['label'])"
      ],
      "execution_count": 47,
      "outputs": [
        {
          "output_type": "execute_result",
          "data": {
            "text/plain": [
              "Counter({'NOT_SARCASM': 2500, 'SARCASM': 2500})"
            ]
          },
          "metadata": {
            "tags": []
          },
          "execution_count": 47
        }
      ]
    },
    {
      "cell_type": "markdown",
      "metadata": {
        "id": "5hNYeasPan5K"
      },
      "source": [
        "Label encode class variable to 0 and 1 from  NOT_SARCASM and SARCASM"
      ]
    },
    {
      "cell_type": "code",
      "metadata": {
        "id": "OSDPBCmQLfcJ"
      },
      "source": [
        "le=LabelEncoder()\n",
        "train_label=le.fit_transform(train['label'])"
      ],
      "execution_count": 48,
      "outputs": []
    },
    {
      "cell_type": "markdown",
      "metadata": {
        "id": "0zhEdu4FbH9L"
      },
      "source": [
        "Read test data set and check the first 5 rows "
      ]
    },
    {
      "cell_type": "code",
      "metadata": {
        "id": "S3y24FiDLg0Y",
        "colab": {
          "base_uri": "https://localhost:8080/",
          "height": 204
        },
        "outputId": "fa7aba65-ccb9-4a0d-cc29-c36f71516693"
      },
      "source": [
        "\n",
        "test = pd.read_json('https://raw.githubusercontent.com/CS410Fall2020/ClassificationCompetition/main/data/test.jsonl',lines=True)\n",
        "\n",
        "test.head()"
      ],
      "execution_count": 49,
      "outputs": [
        {
          "output_type": "execute_result",
          "data": {
            "text/html": [
              "<div>\n",
              "<style scoped>\n",
              "    .dataframe tbody tr th:only-of-type {\n",
              "        vertical-align: middle;\n",
              "    }\n",
              "\n",
              "    .dataframe tbody tr th {\n",
              "        vertical-align: top;\n",
              "    }\n",
              "\n",
              "    .dataframe thead th {\n",
              "        text-align: right;\n",
              "    }\n",
              "</style>\n",
              "<table border=\"1\" class=\"dataframe\">\n",
              "  <thead>\n",
              "    <tr style=\"text-align: right;\">\n",
              "      <th></th>\n",
              "      <th>id</th>\n",
              "      <th>response</th>\n",
              "      <th>context</th>\n",
              "    </tr>\n",
              "  </thead>\n",
              "  <tbody>\n",
              "    <tr>\n",
              "      <th>0</th>\n",
              "      <td>twitter_1</td>\n",
              "      <td>@USER @USER @USER My 3 year old , that just fi...</td>\n",
              "      <td>[Well now that ’ s problematic AF &lt;URL&gt;, @USER...</td>\n",
              "    </tr>\n",
              "    <tr>\n",
              "      <th>1</th>\n",
              "      <td>twitter_2</td>\n",
              "      <td>@USER @USER How many verifiable lies has he to...</td>\n",
              "      <td>[Last week the Fake News said that a section o...</td>\n",
              "    </tr>\n",
              "    <tr>\n",
              "      <th>2</th>\n",
              "      <td>twitter_3</td>\n",
              "      <td>@USER @USER @USER Maybe Docs just a scrub of a...</td>\n",
              "      <td>[@USER Let ’ s Aplaud Brett When he deserves i...</td>\n",
              "    </tr>\n",
              "    <tr>\n",
              "      <th>3</th>\n",
              "      <td>twitter_4</td>\n",
              "      <td>@USER @USER is just a cover up for the real ha...</td>\n",
              "      <td>[Women generally hate this president . What's ...</td>\n",
              "    </tr>\n",
              "    <tr>\n",
              "      <th>4</th>\n",
              "      <td>twitter_5</td>\n",
              "      <td>@USER @USER @USER The irony being that he even...</td>\n",
              "      <td>[Dear media Remoaners , you excitedly sharing ...</td>\n",
              "    </tr>\n",
              "  </tbody>\n",
              "</table>\n",
              "</div>"
            ],
            "text/plain": [
              "          id  ...                                            context\n",
              "0  twitter_1  ...  [Well now that ’ s problematic AF <URL>, @USER...\n",
              "1  twitter_2  ...  [Last week the Fake News said that a section o...\n",
              "2  twitter_3  ...  [@USER Let ’ s Aplaud Brett When he deserves i...\n",
              "3  twitter_4  ...  [Women generally hate this president . What's ...\n",
              "4  twitter_5  ...  [Dear media Remoaners , you excitedly sharing ...\n",
              "\n",
              "[5 rows x 3 columns]"
            ]
          },
          "metadata": {
            "tags": []
          },
          "execution_count": 49
        }
      ]
    },
    {
      "cell_type": "code",
      "metadata": {
        "colab": {
          "base_uri": "https://localhost:8080/"
        },
        "id": "vUADHO76BwO1",
        "outputId": "4d320467-2363-4104-9d6d-fc5bb301ebe9"
      },
      "source": [
        "test.dtypes"
      ],
      "execution_count": 50,
      "outputs": [
        {
          "output_type": "execute_result",
          "data": {
            "text/plain": [
              "id          object\n",
              "response    object\n",
              "context     object\n",
              "dtype: object"
            ]
          },
          "metadata": {
            "tags": []
          },
          "execution_count": 50
        }
      ]
    },
    {
      "cell_type": "markdown",
      "metadata": {
        "id": "8gBKutXAbUzu"
      },
      "source": [
        "Apply the same cleaning logic for response and context columns in test  as done earlier on train data set"
      ]
    },
    {
      "cell_type": "code",
      "metadata": {
        "id": "XvD2Gsb9LnCp"
      },
      "source": [
        "test['response']=test['response'].str.replace('@USER', \"\") \n",
        "test['response']=test['response'].str.replace('<URL>', \"\") \n",
        "test['response']=test['response'].str.replace('\\d+', '')\n",
        "test['response']=test['response'].str.lower()\n",
        "test['response']=test['response'].str.replace('[^\\w\\s]','')\n",
        "test['context']=test['context'].apply(lambda x: ','.join(map(str, x)))\n",
        "test['context']=test['context'].str.replace('@USER', \"\") \n",
        "test['context']=test['context'].str.replace('<URL>', \"\") \n",
        "test['context']=test['context'].str.lower()\n",
        "test['context']=test['context'].str.replace('[^\\w\\s]','')\n",
        "test['context']=test['context'].str.replace('\\d+', '')\n"
      ],
      "execution_count": 51,
      "outputs": []
    },
    {
      "cell_type": "markdown",
      "metadata": {
        "id": "KsWaIP9Ybd9m"
      },
      "source": [
        "Check the test rows after changes"
      ]
    },
    {
      "cell_type": "code",
      "metadata": {
        "colab": {
          "base_uri": "https://localhost:8080/",
          "height": 69
        },
        "id": "QJzjkKLFSNvF",
        "outputId": "dea3ae5d-a82d-47b0-d940-3f872ec448a8"
      },
      "source": [
        "test['response'][0]"
      ],
      "execution_count": 52,
      "outputs": [
        {
          "output_type": "execute_result",
          "data": {
            "application/vnd.google.colaboratory.intrinsic+json": {
              "type": "string"
            },
            "text/plain": [
              "'   my  year old  that just finished reading nietzsche and then asked me   ayo papa why these people always trying to cancel someone on twitter  trying to pretend like that makes them better themselves    to which i replied  idk   and he just  cuz hoes mad   im so proud  '"
            ]
          },
          "metadata": {
            "tags": []
          },
          "execution_count": 52
        }
      ]
    },
    {
      "cell_type": "code",
      "metadata": {
        "colab": {
          "base_uri": "https://localhost:8080/",
          "height": 69
        },
        "id": "ZqTh3yc_SUax",
        "outputId": "99b7b1f4-f6cb-4a09-9fb6-8d87e094e79f"
      },
      "source": [
        "test['context'][0]"
      ],
      "execution_count": 53,
      "outputs": [
        {
          "output_type": "execute_result",
          "data": {
            "application/vnd.google.colaboratory.intrinsic+json": {
              "type": "string"
            },
            "text/plain": [
              "'well now that  s problematic af   my  year old  asked me why they are making fun of native americans    i will take shit that didnt happen for     no  he actually in the gifted program and reads on second grade level    and he knows kansas city is in missouri'"
            ]
          },
          "metadata": {
            "tags": []
          },
          "execution_count": 53
        }
      ]
    },
    {
      "cell_type": "code",
      "metadata": {
        "id": "TFNpSKL8LrIE",
        "colab": {
          "base_uri": "https://localhost:8080/",
          "height": 204
        },
        "outputId": "ca53256a-2a6c-46b6-ebe0-7ecdfcaedb52"
      },
      "source": [
        "test.head()"
      ],
      "execution_count": 54,
      "outputs": [
        {
          "output_type": "execute_result",
          "data": {
            "text/html": [
              "<div>\n",
              "<style scoped>\n",
              "    .dataframe tbody tr th:only-of-type {\n",
              "        vertical-align: middle;\n",
              "    }\n",
              "\n",
              "    .dataframe tbody tr th {\n",
              "        vertical-align: top;\n",
              "    }\n",
              "\n",
              "    .dataframe thead th {\n",
              "        text-align: right;\n",
              "    }\n",
              "</style>\n",
              "<table border=\"1\" class=\"dataframe\">\n",
              "  <thead>\n",
              "    <tr style=\"text-align: right;\">\n",
              "      <th></th>\n",
              "      <th>id</th>\n",
              "      <th>response</th>\n",
              "      <th>context</th>\n",
              "    </tr>\n",
              "  </thead>\n",
              "  <tbody>\n",
              "    <tr>\n",
              "      <th>0</th>\n",
              "      <td>twitter_1</td>\n",
              "      <td>my  year old  that just finished reading ni...</td>\n",
              "      <td>well now that  s problematic af   my  year old...</td>\n",
              "    </tr>\n",
              "    <tr>\n",
              "      <th>1</th>\n",
              "      <td>twitter_2</td>\n",
              "      <td>how many verifiable lies has he told now   d...</td>\n",
              "      <td>last week the fake news said that a section of...</td>\n",
              "    </tr>\n",
              "    <tr>\n",
              "      <th>2</th>\n",
              "      <td>twitter_3</td>\n",
              "      <td>maybe docs just a scrub of a coach  i mean ...</td>\n",
              "      <td>let  s aplaud brett when he deserves it he co...</td>\n",
              "    </tr>\n",
              "    <tr>\n",
              "      <th>3</th>\n",
              "      <td>twitter_4</td>\n",
              "      <td>is just a cover up for the real hate inside ...</td>\n",
              "      <td>women generally hate this president  whats up ...</td>\n",
              "    </tr>\n",
              "    <tr>\n",
              "      <th>4</th>\n",
              "      <td>twitter_5</td>\n",
              "      <td>the irony being that he even has to ask why</td>\n",
              "      <td>dear media remoaners  you excitedly sharing cl...</td>\n",
              "    </tr>\n",
              "  </tbody>\n",
              "</table>\n",
              "</div>"
            ],
            "text/plain": [
              "          id  ...                                            context\n",
              "0  twitter_1  ...  well now that  s problematic af   my  year old...\n",
              "1  twitter_2  ...  last week the fake news said that a section of...\n",
              "2  twitter_3  ...   let  s aplaud brett when he deserves it he co...\n",
              "3  twitter_4  ...  women generally hate this president  whats up ...\n",
              "4  twitter_5  ...  dear media remoaners  you excitedly sharing cl...\n",
              "\n",
              "[5 rows x 3 columns]"
            ]
          },
          "metadata": {
            "tags": []
          },
          "execution_count": 54
        }
      ]
    },
    {
      "cell_type": "markdown",
      "metadata": {
        "id": "-5qtdd7ZblWQ"
      },
      "source": [
        "Check the train rows after changes "
      ]
    },
    {
      "cell_type": "code",
      "metadata": {
        "id": "kC0yfGKeL_hZ",
        "colab": {
          "base_uri": "https://localhost:8080/",
          "height": 204
        },
        "outputId": "2faef49d-0268-4dc8-a8d0-9c3dc7d3062e"
      },
      "source": [
        "train.head()"
      ],
      "execution_count": 55,
      "outputs": [
        {
          "output_type": "execute_result",
          "data": {
            "text/html": [
              "<div>\n",
              "<style scoped>\n",
              "    .dataframe tbody tr th:only-of-type {\n",
              "        vertical-align: middle;\n",
              "    }\n",
              "\n",
              "    .dataframe tbody tr th {\n",
              "        vertical-align: top;\n",
              "    }\n",
              "\n",
              "    .dataframe thead th {\n",
              "        text-align: right;\n",
              "    }\n",
              "</style>\n",
              "<table border=\"1\" class=\"dataframe\">\n",
              "  <thead>\n",
              "    <tr style=\"text-align: right;\">\n",
              "      <th></th>\n",
              "      <th>label</th>\n",
              "      <th>response</th>\n",
              "      <th>context</th>\n",
              "    </tr>\n",
              "  </thead>\n",
              "  <tbody>\n",
              "    <tr>\n",
              "      <th>0</th>\n",
              "      <td>SARCASM</td>\n",
              "      <td>i dont get this  obviously you do care or y...</td>\n",
              "      <td>a minor child deserves privacy and should be k...</td>\n",
              "    </tr>\n",
              "    <tr>\n",
              "      <th>1</th>\n",
              "      <td>SARCASM</td>\n",
              "      <td>trying to protest about  talking about him a...</td>\n",
              "      <td>why is he a loser  hes just a press secretar...</td>\n",
              "    </tr>\n",
              "    <tr>\n",
              "      <th>2</th>\n",
              "      <td>SARCASM</td>\n",
              "      <td>he makes an insane about of money from the ...</td>\n",
              "      <td>donald j  trump is guilty as charged  the evid...</td>\n",
              "    </tr>\n",
              "    <tr>\n",
              "      <th>3</th>\n",
              "      <td>SARCASM</td>\n",
              "      <td>meanwhile trump wont even release his sat sc...</td>\n",
              "      <td>jamie raskin tanked doug collins  collins look...</td>\n",
              "    </tr>\n",
              "    <tr>\n",
              "      <th>4</th>\n",
              "      <td>SARCASM</td>\n",
              "      <td>pretty sure the antilincoln crowd claimed th...</td>\n",
              "      <td>man  y  all gone  both sides  the apocalypse o...</td>\n",
              "    </tr>\n",
              "  </tbody>\n",
              "</table>\n",
              "</div>"
            ],
            "text/plain": [
              "     label  ...                                            context\n",
              "0  SARCASM  ...  a minor child deserves privacy and should be k...\n",
              "1  SARCASM  ...    why is he a loser  hes just a press secretar...\n",
              "2  SARCASM  ...  donald j  trump is guilty as charged  the evid...\n",
              "3  SARCASM  ...  jamie raskin tanked doug collins  collins look...\n",
              "4  SARCASM  ...  man  y  all gone  both sides  the apocalypse o...\n",
              "\n",
              "[5 rows x 3 columns]"
            ]
          },
          "metadata": {
            "tags": []
          },
          "execution_count": 55
        }
      ]
    },
    {
      "cell_type": "markdown",
      "metadata": {
        "id": "isO7qfb3btTd"
      },
      "source": [
        "Create a variable traindata from train "
      ]
    },
    {
      "cell_type": "code",
      "metadata": {
        "id": "vy7GjbYpM8SP"
      },
      "source": [
        "traindata = train"
      ],
      "execution_count": 56,
      "outputs": []
    },
    {
      "cell_type": "code",
      "metadata": {
        "colab": {
          "base_uri": "https://localhost:8080/"
        },
        "id": "DYPz3I66NqCn",
        "outputId": "d8a6388e-79db-4e17-a8ea-0f649aac7f97"
      },
      "source": [
        "len(train_label)"
      ],
      "execution_count": 57,
      "outputs": [
        {
          "output_type": "execute_result",
          "data": {
            "text/plain": [
              "5000"
            ]
          },
          "metadata": {
            "tags": []
          },
          "execution_count": 57
        }
      ]
    },
    {
      "cell_type": "markdown",
      "metadata": {
        "id": "-wimsQCqbyLI"
      },
      "source": [
        "Train Validation Split (To train on 4000 samples and validate on 1000 samples)"
      ]
    },
    {
      "cell_type": "code",
      "metadata": {
        "id": "JyiQgR3fLjHV"
      },
      "source": [
        "X_train, X_val, y_train, y_val = train_test_split(traindata.drop(labels=['label'], axis=1), train_label, test_size=0.2, random_state=42 ,stratify=train_label)\n",
        "#\n"
      ],
      "execution_count": 58,
      "outputs": []
    },
    {
      "cell_type": "code",
      "metadata": {
        "colab": {
          "base_uri": "https://localhost:8080/"
        },
        "id": "PKTWWQUbOAyR",
        "outputId": "c42262ea-e829-4d0c-d3e1-acfd232553b7"
      },
      "source": [
        "X_train.shape   #Check the shape of X_train"
      ],
      "execution_count": 59,
      "outputs": [
        {
          "output_type": "execute_result",
          "data": {
            "text/plain": [
              "(4000, 2)"
            ]
          },
          "metadata": {
            "tags": []
          },
          "execution_count": 59
        }
      ]
    },
    {
      "cell_type": "code",
      "metadata": {
        "colab": {
          "base_uri": "https://localhost:8080/"
        },
        "id": "4mQ9BCQYOPbB",
        "outputId": "6a6767d6-280f-46da-ff07-bc28dcd13372"
      },
      "source": [
        "y_train.shape  #Check the shape of y_train\n"
      ],
      "execution_count": 60,
      "outputs": [
        {
          "output_type": "execute_result",
          "data": {
            "text/plain": [
              "(4000,)"
            ]
          },
          "metadata": {
            "tags": []
          },
          "execution_count": 60
        }
      ]
    },
    {
      "cell_type": "code",
      "metadata": {
        "colab": {
          "base_uri": "https://localhost:8080/"
        },
        "id": "EWDjNnTTOXkV",
        "outputId": "7adf141e-a2ad-44e1-8e6d-cf855c0a4ddc"
      },
      "source": [
        " X_val.shape   #Check the shape of X_val"
      ],
      "execution_count": 61,
      "outputs": [
        {
          "output_type": "execute_result",
          "data": {
            "text/plain": [
              "(1000, 2)"
            ]
          },
          "metadata": {
            "tags": []
          },
          "execution_count": 61
        }
      ]
    },
    {
      "cell_type": "markdown",
      "metadata": {
        "id": "BYV3l550cugd"
      },
      "source": [
        "Check the target variable balance in training and validation "
      ]
    },
    {
      "cell_type": "code",
      "metadata": {
        "colab": {
          "base_uri": "https://localhost:8080/"
        },
        "id": "MdASYPQ4acDn",
        "outputId": "8684338f-645b-427c-ed98-ce7827c6db41"
      },
      "source": [
        "print(Counter(y_val))  \n",
        "print(Counter(y_train))"
      ],
      "execution_count": 62,
      "outputs": [
        {
          "output_type": "stream",
          "text": [
            "Counter({0: 500, 1: 500})\n",
            "Counter({1: 2000, 0: 2000})\n"
          ],
          "name": "stdout"
        }
      ]
    },
    {
      "cell_type": "markdown",
      "metadata": {
        "id": "dpCBMZ_9wb-Q"
      },
      "source": [
        "Added a keras bert layer using bert uncased L-12_H-768_A-12. Tokenization approach using bert fulltokenizer followed as per usage in below tfhub link\n",
        "\n",
        "https://tfhub.dev/tensorflow/bert_en_uncased_L-12_H-768_A-12/1"
      ]
    },
    {
      "cell_type": "code",
      "metadata": {
        "colab": {
          "base_uri": "https://localhost:8080/"
        },
        "id": "6w5IQ1yaCJ5l",
        "outputId": "50aefd02-ccaf-4e35-b508-831a0b46190c"
      },
      "source": [
        "import tensorflow_hub as hub\n",
        "hub"
      ],
      "execution_count": 63,
      "outputs": [
        {
          "output_type": "execute_result",
          "data": {
            "text/plain": [
              "<module 'tensorflow_hub' from '/usr/local/lib/python3.6/dist-packages/tensorflow_hub/__init__.py'>"
            ]
          },
          "metadata": {
            "tags": []
          },
          "execution_count": 63
        }
      ]
    },
    {
      "cell_type": "code",
      "metadata": {
        "id": "mKpdfByIMMAU"
      },
      "source": [
        "\n",
        "module_url = \"https://tfhub.dev/tensorflow/bert_en_uncased_L-12_H-768_A-12/1\"\n",
        "bert_layer = hub.KerasLayer(module_url, trainable=True)"
      ],
      "execution_count": 64,
      "outputs": []
    },
    {
      "cell_type": "markdown",
      "metadata": {
        "id": "595wfOWl8jcP"
      },
      "source": [
        "\n",
        "Download and import bert tokenization file"
      ]
    },
    {
      "cell_type": "code",
      "metadata": {
        "id": "GPUMH0SbNNax"
      },
      "source": [
        "!wget --quiet https://raw.githubusercontent.com/tensorflow/models/master/official/nlp/bert/tokenization.py"
      ],
      "execution_count": 65,
      "outputs": []
    },
    {
      "cell_type": "code",
      "metadata": {
        "id": "NbeqeDuNMUfX"
      },
      "source": [
        "import tokenization\n",
        "vocab_file = bert_layer.resolved_object.vocab_file.asset_path.numpy()\n",
        "do_lower_case = bert_layer.resolved_object.do_lower_case.numpy()\n",
        "tokenizer = tokenization.FullTokenizer(vocab_file, do_lower_case)"
      ],
      "execution_count": 66,
      "outputs": []
    },
    {
      "cell_type": "markdown",
      "metadata": {
        "id": "ZcBJa14Lwr3K"
      },
      "source": [
        "Encoding function to separate the text into tokens,masks and segments"
      ]
    },
    {
      "cell_type": "code",
      "metadata": {
        "id": "nozqUNSBMTLh"
      },
      "source": [
        "# Reference link for encoder function:\n",
        "# https://www.analyticsvidhya.com/blog/2020/10/simple-text-multi-classification-task-using-keras-bert/\n",
        "def encode(texts, tokenizer, max_len=512):\n",
        "    all_tokens = []\n",
        "    all_masks = []\n",
        "    all_segments = []\n",
        "    \n",
        "    for text in texts:\n",
        "        text = tokenizer.tokenize(text)\n",
        "            \n",
        "        text = text[:max_len-2]\n",
        "        input_sequence = [\"[CLS]\"] + text + [\"[SEP]\"]\n",
        "        pad_len = max_len - len(input_sequence)\n",
        "        \n",
        "        tokens = tokenizer.convert_tokens_to_ids(input_sequence)\n",
        "        tokens += [0] * pad_len\n",
        "        pad_masks = [1] * len(input_sequence) + [0] * pad_len\n",
        "        segment_ids = [0] * max_len\n",
        "        \n",
        "        all_tokens.append(tokens)\n",
        "        all_masks.append(pad_masks)\n",
        "        all_segments.append(segment_ids)\n",
        "    \n",
        "    return np.array(all_tokens), np.array(all_masks), np.array(all_segments)"
      ],
      "execution_count": 67,
      "outputs": []
    },
    {
      "cell_type": "code",
      "metadata": {
        "id": "4RJbN9glMXG8"
      },
      "source": [
        " max_len=256"
      ],
      "execution_count": 68,
      "outputs": []
    },
    {
      "cell_type": "code",
      "metadata": {
        "id": "JPCW5GNGOhVG"
      },
      "source": [
        "val_response = encode(X_val.response, tokenizer, max_len=max_len)\n",
        "val_context = encode(X_val.context, tokenizer, max_len=max_len)\n",
        "val_labels=y_val"
      ],
      "execution_count": 69,
      "outputs": []
    },
    {
      "cell_type": "code",
      "metadata": {
        "id": "HCMviZPVMZde"
      },
      "source": [
        "train_response = encode(X_train.response, tokenizer, max_len=max_len)\n",
        "train_context = encode(X_train.context, tokenizer, max_len=max_len)\n",
        "train_labels=y_train\n"
      ],
      "execution_count": 70,
      "outputs": []
    },
    {
      "cell_type": "code",
      "metadata": {
        "id": "gi9TJBJ8McXB"
      },
      "source": [
        "test_response = encode(test.response, tokenizer, max_len=max_len)\n",
        "test_context = encode(test.context, tokenizer, max_len=max_len)"
      ],
      "execution_count": 71,
      "outputs": []
    },
    {
      "cell_type": "markdown",
      "metadata": {
        "id": "PkB-cvwWveNP"
      },
      "source": [
        "Set test_input "
      ]
    },
    {
      "cell_type": "code",
      "metadata": {
        "id": "rmXxWlaRMeya"
      },
      "source": [
        "test_input=[test_context[0],test_context[1],test_context[2],test_response[0],test_response[1],test_response[2]]"
      ],
      "execution_count": 72,
      "outputs": []
    },
    {
      "cell_type": "markdown",
      "metadata": {
        "id": "PPJG2p4uvH-9"
      },
      "source": [
        "Helper functions for Evaluation metrics like recall,precision and f1 score from\n",
        "https://datascience.stackexchange.com/questions/45165/how-to-get-accuracy-f1-precision-and-recall-for-a-keras-model"
      ]
    },
    {
      "cell_type": "code",
      "metadata": {
        "id": "So_tGeaJQRdH"
      },
      "source": [
        "def recall_m(y_true, y_pred):\n",
        "    true_positives = K.sum(K.round(K.clip(y_true * y_pred, 0, 1)))\n",
        "    possible_positives = K.sum(K.round(K.clip(y_true, 0, 1)))\n",
        "    recall = true_positives / (possible_positives + K.epsilon())\n",
        "    return recall\n",
        "\n",
        "def precision_m(y_true, y_pred):\n",
        "    true_positives = K.sum(K.round(K.clip(y_true * y_pred, 0, 1)))\n",
        "    predicted_positives = K.sum(K.round(K.clip(y_pred, 0, 1)))\n",
        "    precision = true_positives / (predicted_positives + K.epsilon())\n",
        "    return precision\n",
        "\n",
        "def f1_m(y_true, y_pred):\n",
        "    precision = precision_m(y_true, y_pred)\n",
        "    recall = recall_m(y_true, y_pred)\n",
        "    return 2*((precision*recall)/(precision+recall+K.epsilon()))"
      ],
      "execution_count": 73,
      "outputs": []
    },
    {
      "cell_type": "markdown",
      "metadata": {
        "id": "wFYjwXSmd4Xy"
      },
      "source": [
        "Build Model\n",
        "\n"
      ]
    },
    {
      "cell_type": "code",
      "metadata": {
        "id": "tGiXHWqnMlQG"
      },
      "source": [
        "def build_model(bert_layer, max_len=512):\n",
        "\n",
        "    # input word ids,masks,segment ids for context\n",
        "    context_word_ids = Input(shape=(max_len,), dtype=tf.int32, name=\"contex_word_ids\")\n",
        "    context_mask = Input(shape=(max_len,), dtype=tf.int32, name=\"context_mask\")\n",
        "    context_seg_ids = Input(shape=(max_len,), dtype=tf.int32, name=\"context_seg_ids\")\n",
        "    context_pooled_output , context_seq_output = bert_layer([context_word_ids, context_mask, context_seg_ids])\n",
        "    context_clf_output = context_seq_output[:, 0, :]\n",
        "\n",
        "    # input word ids,masks,segment ids for response\n",
        "    reponse_word_ids = Input(shape=(max_len,), dtype=tf.int32, name=\"reponse_word_ids\")\n",
        "    reponse_mask = Input(shape=(max_len,), dtype=tf.int32, name=\"reponse_mask\")\n",
        "    reponse_seg_ids = Input(shape=(max_len,), dtype=tf.int32, name=\"reponse_seg_ids\")\n",
        "    response_pooled_output , reponse_seq_output = bert_layer([reponse_word_ids, reponse_mask, reponse_seg_ids])\n",
        "    reponse_clf_output = reponse_seq_output[:, 0, :]\n",
        "\n",
        "    #concatenation layer of outputs of bert layer for context and response\n",
        "    conclayer=concatenate([context_clf_output,reponse_clf_output])\n",
        "    # give conclayer as input to a simple dense network with 1 neuron with activation function sigmoid\n",
        "    out = Dense(1, activation='sigmoid')(conclayer)\n",
        "    #set keras model with inputs as an array of context and response input word ids,mask and segment ids\n",
        "    model = Model(inputs=[context_word_ids, context_mask, context_seg_ids,reponse_word_ids,reponse_mask,reponse_seg_ids], outputs=out)\n",
        "    \n",
        "    #Model compilation\n",
        "    #Used adam optimizer with learning rate 1e-6, used binary cross entropy loss as its a binary classification problem\n",
        "    #Calculating accuracy,f1,precision and recall metrics for each run\n",
        "    model.compile(Adam(1e-6), loss='binary_crossentropy', metrics=['acc',f1_m,precision_m, recall_m])\n",
        "\n",
        "    return model\n",
        "\n"
      ],
      "execution_count": 78,
      "outputs": []
    },
    {
      "cell_type": "markdown",
      "metadata": {
        "id": "66aMRVji68sg"
      },
      "source": [
        "Check summary of the model"
      ]
    },
    {
      "cell_type": "code",
      "metadata": {
        "id": "ouDt9OpzHBRZ",
        "colab": {
          "base_uri": "https://localhost:8080/"
        },
        "outputId": "f218b7df-fce3-4d6b-deea-2f7aae35e793"
      },
      "source": [
        "\n",
        "model = build_model(bert_layer, max_len=max_len)\n",
        "model.summary()\n"
      ],
      "execution_count": 79,
      "outputs": [
        {
          "output_type": "stream",
          "text": [
            "Model: \"model_1\"\n",
            "__________________________________________________________________________________________________\n",
            "Layer (type)                    Output Shape         Param #     Connected to                     \n",
            "==================================================================================================\n",
            "contex_word_ids (InputLayer)    [(None, 256)]        0                                            \n",
            "__________________________________________________________________________________________________\n",
            "context_mask (InputLayer)       [(None, 256)]        0                                            \n",
            "__________________________________________________________________________________________________\n",
            "context_seg_ids (InputLayer)    [(None, 256)]        0                                            \n",
            "__________________________________________________________________________________________________\n",
            "reponse_word_ids (InputLayer)   [(None, 256)]        0                                            \n",
            "__________________________________________________________________________________________________\n",
            "reponse_mask (InputLayer)       [(None, 256)]        0                                            \n",
            "__________________________________________________________________________________________________\n",
            "reponse_seg_ids (InputLayer)    [(None, 256)]        0                                            \n",
            "__________________________________________________________________________________________________\n",
            "keras_layer_1 (KerasLayer)      [(None, 768), (None, 109482241   contex_word_ids[0][0]            \n",
            "                                                                 context_mask[0][0]               \n",
            "                                                                 context_seg_ids[0][0]            \n",
            "                                                                 reponse_word_ids[0][0]           \n",
            "                                                                 reponse_mask[0][0]               \n",
            "                                                                 reponse_seg_ids[0][0]            \n",
            "__________________________________________________________________________________________________\n",
            "tf_op_layer_strided_slice_2 (Te [(None, 768)]        0           keras_layer_1[2][1]              \n",
            "__________________________________________________________________________________________________\n",
            "tf_op_layer_strided_slice_3 (Te [(None, 768)]        0           keras_layer_1[3][1]              \n",
            "__________________________________________________________________________________________________\n",
            "concatenate_1 (Concatenate)     (None, 1536)         0           tf_op_layer_strided_slice_2[0][0]\n",
            "                                                                 tf_op_layer_strided_slice_3[0][0]\n",
            "__________________________________________________________________________________________________\n",
            "dense_1 (Dense)                 (None, 1)            1537        concatenate_1[0][0]              \n",
            "==================================================================================================\n",
            "Total params: 109,483,778\n",
            "Trainable params: 109,483,777\n",
            "Non-trainable params: 1\n",
            "__________________________________________________________________________________________________\n"
          ],
          "name": "stdout"
        }
      ]
    },
    {
      "cell_type": "markdown",
      "metadata": {
        "id": "9jXoYzrLd_FI"
      },
      "source": [
        "Set train_input (Array of train_context and train_reponse with inturn contains input word ids,mask and segment ids )"
      ]
    },
    {
      "cell_type": "code",
      "metadata": {
        "id": "XP2rqQdeMn7B"
      },
      "source": [
        "train_input=[train_context[0],train_context[1],train_context[2],train_response[0],train_response[1],train_response[2]]"
      ],
      "execution_count": 80,
      "outputs": []
    },
    {
      "cell_type": "markdown",
      "metadata": {
        "id": "0kH5hXOU547s"
      },
      "source": [
        "\n",
        "Set val_input (Array of val_context and val_reponse with inturn contains input word ids,mask and segment ids )"
      ]
    },
    {
      "cell_type": "code",
      "metadata": {
        "id": "VnPSQ4UPPVL2"
      },
      "source": [
        "val_input=[val_context[0],val_context[1],val_context[2],val_response[0],val_response[1],val_response[2]]"
      ],
      "execution_count": 81,
      "outputs": []
    },
    {
      "cell_type": "markdown",
      "metadata": {
        "id": "H53q_MYh9zPD"
      },
      "source": [
        "Training the model "
      ]
    },
    {
      "cell_type": "code",
      "metadata": {
        "colab": {
          "base_uri": "https://localhost:8080/"
        },
        "id": "nIa8suJBPnhX",
        "outputId": "058a9463-0392-4424-e0aa-56e41fce91cd"
      },
      "source": [
        "train_history = model.fit(\n",
        "    train_input, y_train,\n",
        "    validation_data =(val_input,y_val),\n",
        "    epochs=3,\n",
        "    batch_size=3)"
      ],
      "execution_count": 82,
      "outputs": [
        {
          "output_type": "stream",
          "text": [
            "Train on 4000 samples, validate on 1000 samples\n",
            "Epoch 1/3\n",
            "4000/4000 [==============================] - 337s 84ms/sample - loss: 0.5840 - acc: 0.6827 - f1_m: 0.5811 - precision_m: 0.5947 - recall_m: 0.6308 - val_loss: 0.5104 - val_acc: 0.7530 - val_f1_m: 0.6487 - val_precision_m: 0.6532 - val_recall_m: 0.6931\n",
            "Epoch 2/3\n",
            "4000/4000 [==============================] - 313s 78ms/sample - loss: 0.4385 - acc: 0.7930 - f1_m: 0.6857 - precision_m: 0.6969 - recall_m: 0.7219 - val_loss: 0.4762 - val_acc: 0.7620 - val_f1_m: 0.6595 - val_precision_m: 0.6572 - val_recall_m: 0.7136\n",
            "Epoch 3/3\n",
            "4000/4000 [==============================] - 312s 78ms/sample - loss: 0.3334 - acc: 0.8620 - f1_m: 0.7538 - precision_m: 0.7591 - recall_m: 0.7840 - val_loss: 0.4635 - val_acc: 0.7700 - val_f1_m: 0.6553 - val_precision_m: 0.6617 - val_recall_m: 0.7006\n"
          ],
          "name": "stdout"
        }
      ]
    },
    {
      "cell_type": "markdown",
      "metadata": {
        "id": "b0mRDehi981H"
      },
      "source": [
        "Predictions for test_input for the trained model"
      ]
    },
    {
      "cell_type": "code",
      "metadata": {
        "id": "1-ayRkJGMxpy",
        "colab": {
          "base_uri": "https://localhost:8080/"
        },
        "outputId": "705f8769-78e5-430e-84f8-9bfdc366a121"
      },
      "source": [
        "pred=model.predict(test_input,verbose=1)"
      ],
      "execution_count": 83,
      "outputs": [
        {
          "output_type": "stream",
          "text": [
            "1800/1800 [==============================] - 38s 21ms/sample\n"
          ],
          "name": "stdout"
        }
      ]
    },
    {
      "cell_type": "markdown",
      "metadata": {
        "id": "PqzRrUPH-Bmz"
      },
      "source": [
        "Write the predictions for test dataset into answer.txt with columns id and label"
      ]
    },
    {
      "cell_type": "code",
      "metadata": {
        "id": "C5oatnx-M3LV"
      },
      "source": [
        "\n",
        "sub=pred.round()\n",
        "sub=le.inverse_transform(sub.ravel().astype('int16'))\n",
        "sub=pd.DataFrame(sub,columns=['label'])\n",
        "sub=pd.concat([test['id'], sub], axis=1)\n",
        "sub.head()\n",
        "sub.to_csv('answer.txt',sep=',',index=False,header=None)"
      ],
      "execution_count": 84,
      "outputs": []
    },
    {
      "cell_type": "markdown",
      "metadata": {
        "id": "OCjEO6Mk-_Ci"
      },
      "source": [
        "Save model weights"
      ]
    },
    {
      "cell_type": "code",
      "metadata": {
        "id": "6-fkc9Xq-8xx"
      },
      "source": [
        "model_save_name = 'bert_weights2.h5'\n",
        "path = F\"/content/drive/My Drive/{model_save_name}\" \n",
        "model.save_weights(path)"
      ],
      "execution_count": 85,
      "outputs": []
    },
    {
      "cell_type": "markdown",
      "metadata": {
        "id": "0w-AsWVZ-Qxu"
      },
      "source": [
        "Loading model weights from already generated saved model weights file after training\n"
      ]
    },
    {
      "cell_type": "code",
      "metadata": {
        "id": "V2xuVMO1-d1S",
        "colab": {
          "base_uri": "https://localhost:8080/"
        },
        "outputId": "60c5c062-1b47-4219-fbe9-5a1ee98a0905"
      },
      "source": [
        "model2 = build_model(bert_layer, max_len=max_len)\n",
        "model2.summary()"
      ],
      "execution_count": 86,
      "outputs": [
        {
          "output_type": "stream",
          "text": [
            "Model: \"model_2\"\n",
            "__________________________________________________________________________________________________\n",
            "Layer (type)                    Output Shape         Param #     Connected to                     \n",
            "==================================================================================================\n",
            "contex_word_ids (InputLayer)    [(None, 256)]        0                                            \n",
            "__________________________________________________________________________________________________\n",
            "context_mask (InputLayer)       [(None, 256)]        0                                            \n",
            "__________________________________________________________________________________________________\n",
            "context_seg_ids (InputLayer)    [(None, 256)]        0                                            \n",
            "__________________________________________________________________________________________________\n",
            "reponse_word_ids (InputLayer)   [(None, 256)]        0                                            \n",
            "__________________________________________________________________________________________________\n",
            "reponse_mask (InputLayer)       [(None, 256)]        0                                            \n",
            "__________________________________________________________________________________________________\n",
            "reponse_seg_ids (InputLayer)    [(None, 256)]        0                                            \n",
            "__________________________________________________________________________________________________\n",
            "keras_layer_1 (KerasLayer)      [(None, 768), (None, 109482241   contex_word_ids[0][0]            \n",
            "                                                                 context_mask[0][0]               \n",
            "                                                                 context_seg_ids[0][0]            \n",
            "                                                                 reponse_word_ids[0][0]           \n",
            "                                                                 reponse_mask[0][0]               \n",
            "                                                                 reponse_seg_ids[0][0]            \n",
            "__________________________________________________________________________________________________\n",
            "tf_op_layer_strided_slice_4 (Te [(None, 768)]        0           keras_layer_1[4][1]              \n",
            "__________________________________________________________________________________________________\n",
            "tf_op_layer_strided_slice_5 (Te [(None, 768)]        0           keras_layer_1[5][1]              \n",
            "__________________________________________________________________________________________________\n",
            "concatenate_2 (Concatenate)     (None, 1536)         0           tf_op_layer_strided_slice_4[0][0]\n",
            "                                                                 tf_op_layer_strided_slice_5[0][0]\n",
            "__________________________________________________________________________________________________\n",
            "dense_2 (Dense)                 (None, 1)            1537        concatenate_2[0][0]              \n",
            "==================================================================================================\n",
            "Total params: 109,483,778\n",
            "Trainable params: 109,483,777\n",
            "Non-trainable params: 1\n",
            "__________________________________________________________________________________________________\n"
          ],
          "name": "stdout"
        }
      ]
    },
    {
      "cell_type": "code",
      "metadata": {
        "id": "4_RO_P8EcBBw",
        "colab": {
          "base_uri": "https://localhost:8080/"
        },
        "outputId": "97cfca1d-6347-4b42-f660-d7b2c97937cd"
      },
      "source": [
        "print('load model')\n",
        "\n",
        "#Previously saved models\n",
        "\n",
        "#bert_model.h5\n",
        "# https://drive.google.com/file/d/1hWyGrsE69dCJBK4HI-VFJql7PDiEG2LA/view?usp=sharing\n",
        "\n",
        "#bert_model1.h5\n",
        "#https://drive.google.com/file/d/1bHc2hz5rJ7eyYIZqPtBhgVXMy1fsMCc_/view?usp=sharing\n",
        "\n",
        "\n",
        "#bert_model2.h5\n",
        "#https://drive.google.com/file/d/1DpPs7yjX-oWBRdeTL8w4JA3FKmoMbnKC/view?usp=sharing\n",
        "\n",
        "#!gdown --id 1hWyGrsE69dCJBK4HI-VFJql7PDiEG2LA\n",
        "\n",
        "#!gdown --id 1bHc2hz5rJ7eyYIZqPtBhgVXMy1fsMCc_\n",
        "\n",
        "\n",
        "#Download previously saved bert_model2.h5 which used the same training process\n",
        "!gdown --id 1DpPs7yjX-oWBRdeTL8w4JA3FKmoMbnKC\n",
        "\n",
        "\n",
        "\n"
      ],
      "execution_count": 87,
      "outputs": [
        {
          "output_type": "stream",
          "text": [
            "load model\n",
            "Downloading...\n",
            "From: https://drive.google.com/uc?id=1DpPs7yjX-oWBRdeTL8w4JA3FKmoMbnKC\n",
            "To: /content/bert_weights2.h5\n",
            "438MB [00:01, 242MB/s]\n"
          ],
          "name": "stdout"
        }
      ]
    },
    {
      "cell_type": "markdown",
      "metadata": {
        "id": "1LBSBhyO8OOD"
      },
      "source": [
        "Load the weights into model2 from the downloaded file"
      ]
    },
    {
      "cell_type": "code",
      "metadata": {
        "id": "pyvVge5ymelc"
      },
      "source": [
        "model2.load_weights('bert_weights2.h5')"
      ],
      "execution_count": 88,
      "outputs": []
    },
    {
      "cell_type": "markdown",
      "metadata": {
        "id": "6n3u6sFK8W-z"
      },
      "source": [
        "Predictions for model2 after loading weights"
      ]
    },
    {
      "cell_type": "code",
      "metadata": {
        "id": "C_6sBGKUcP7J",
        "colab": {
          "base_uri": "https://localhost:8080/"
        },
        "outputId": "28fa4989-8f1d-4ad0-9147-9fffac8ad826"
      },
      "source": [
        "pred2 = model2.predict(test_input,verbose=1)\n",
        "\n"
      ],
      "execution_count": 89,
      "outputs": [
        {
          "output_type": "stream",
          "text": [
            "1800/1800 [==============================] - 38s 21ms/sample\n"
          ],
          "name": "stdout"
        }
      ]
    },
    {
      "cell_type": "markdown",
      "metadata": {
        "id": "rawLFYBP8k_1"
      },
      "source": [
        "Write the predictions for test dataset into answer.txt with columns id and label"
      ]
    },
    {
      "cell_type": "code",
      "metadata": {
        "id": "SLbb7wOx_UuF"
      },
      "source": [
        "sub=pred2.round()\n",
        "sub=le.inverse_transform(sub.ravel().astype('int16'))\n",
        "sub=pd.DataFrame(sub,columns=['label'])\n",
        "sub=pd.concat([test['id'], sub], axis=1)\n",
        "sub.head()\n",
        "sub.to_csv('answer.txt',sep=',',index=False,header=None)"
      ],
      "execution_count": 90,
      "outputs": []
    }
  ]
}